{
 "cells": [
  {
   "cell_type": "code",
   "execution_count": 1,
   "metadata": {},
   "outputs": [],
   "source": [
    "import pandas as pd\n",
    "import unicodedata\n"
   ]
  },
  {
   "cell_type": "code",
   "execution_count": 3,
   "metadata": {},
   "outputs": [
    {
     "name": "stdout",
     "output_type": "stream",
     "text": [
      " ►Albañilería.csv        ►Departamentos.csv          Pintores_decoradores.csv\r\n",
      " ►Amplificaciones.csv    ►Electricidad.csv           ►Plomería.csv\r\n",
      " ►Automóviles.csv        ►Habitaciones.csv           ►Productos.csv\r\n",
      " ►Camionetas.csv        '►Locales Comerciales.csv'   ►Profesores.csv\r\n",
      " ►Carpintería.csv       '►Lotes y terrenos.csv'      ►Técnicos.csv\r\n",
      "'►Casas y chalets.csv'   ►Otros.csv\r\n"
     ]
    }
   ],
   "source": [
    "%ls data/"
   ]
  },
  {
   "cell_type": "code",
   "execution_count": 265,
   "metadata": {},
   "outputs": [
    {
     "name": "stdout",
     "output_type": "stream",
     "text": [
      "data/►Habitaciones.csv\n",
      "Habitaciones\n"
     ]
    },
    {
     "data": {
      "text/html": [
       "<div>\n",
       "<style scoped>\n",
       "    .dataframe tbody tr th:only-of-type {\n",
       "        vertical-align: middle;\n",
       "    }\n",
       "\n",
       "    .dataframe tbody tr th {\n",
       "        vertical-align: top;\n",
       "    }\n",
       "\n",
       "    .dataframe thead th {\n",
       "        text-align: right;\n",
       "    }\n",
       "</style>\n",
       "<table border=\"1\" class=\"dataframe\">\n",
       "  <thead>\n",
       "    <tr style=\"text-align: right;\">\n",
       "      <th></th>\n",
       "      <th>Habitaciones</th>\n",
       "    </tr>\n",
       "  </thead>\n",
       "  <tbody>\n",
       "    <tr>\n",
       "      <th>0</th>\n",
       "      <td>Anticrético</td>\n",
       "    </tr>\n",
       "    <tr>\n",
       "      <th>1</th>\n",
       "      <td>CUARTOS en anticrético para estudiantes Sargen...</td>\n",
       "    </tr>\n",
       "    <tr>\n",
       "      <th>3</th>\n",
       "      <td>CUARTOS en anticrético zona Sapo Norte. 74155820</td>\n",
       "    </tr>\n",
       "    <tr>\n",
       "      <th>5</th>\n",
       "      <td>VEHÍCULOS</td>\n",
       "    </tr>\n",
       "  </tbody>\n",
       "</table>\n",
       "</div>"
      ],
      "text/plain": [
       "                                        Habitaciones\n",
       "0                                        Anticrético\n",
       "1  CUARTOS en anticrético para estudiantes Sargen...\n",
       "3   CUARTOS en anticrético zona Sapo Norte. 74155820\n",
       "5                                          VEHÍCULOS"
      ]
     },
     "execution_count": 265,
     "metadata": {},
     "output_type": "execute_result"
    }
   ],
   "source": [
    "pattern_name = re.compile(\"[A-Z]+[a-z]+\")\n",
    "pattern_unused_rows = \"\\[+[0-9]+-[0-9]+\\]\"\n",
    "\n",
    "def remove_accent(text):\n",
    "    output = unicodedata.normalize('NFD', text).encode('ascii', 'ignore')\n",
    "    decoded = output.decode('utf-8')\n",
    "    return decoded\n",
    "\n",
    "def read_csv(file):\n",
    "    df = pd.read_csv(file)\n",
    "    return df\n",
    "\n",
    "def unused_df_rows(dff):\n",
    "    aux_df = dff[dff['data'].astype(str).str.match(pattern_unused_rows)]\n",
    "    return aux_df\n",
    "\n",
    "def get_index_to_filter(u_df, dff):\n",
    "    indexNames = u_df.index\n",
    "    indexUnused = dff[-1:].index\n",
    "    \n",
    "    indexes = indexNames.to_list() + indexUnused.to_list()\n",
    "    return indexes\n",
    "\n",
    "def drop_rows(dff, indexes):\n",
    "    # Delete these row indexes from dataFrame\n",
    "    dff.drop(indexes, inplace=True)\n",
    "    return dff\n",
    "\n",
    "def drop_column(dff):\n",
    "    dff = dff.drop(columns=['tag'])\n",
    "    return dff\n",
    "\n",
    "def rename_column(dff, name):\n",
    "    dff = dff.rename(columns={\"data\": name})\n",
    "    return dff\n",
    "\n",
    "def save_clean_df(dff, filename):\n",
    "    dff.to_csv(f'clean_data/{filename}.csv', index = None, header=True)\n",
    "\n",
    "\n",
    "def get_name(filename):\n",
    "    result = pattern_name.findall(filename)[-1]\n",
    "    return result\n",
    "\n",
    "\n",
    "def clean_and_save(df, file_name):\n",
    "\n",
    "    f = remove_accent(file_name)\n",
    "    column_name = get_name(f)\n",
    "\n",
    "    aux_df = unused_df_rows(df)\n",
    "    indexes = get_index_to_filter(aux_df, df)\n",
    "\n",
    "    n_df = drop_rows(df, indexes)\n",
    "    n_df.head()\n",
    "\n",
    "    df = drop_column(df)\n",
    "    print(column_name)\n",
    "    df = rename_column(df, column_name)\n",
    "    return df\n",
    "    #save_clean_df(df, column_name)\n",
    "    \n",
    "def main():\n",
    "    files = glob.glob(\"data/*.csv\")\n",
    "    for f in files:\n",
    "        print(f)\n",
    "        df = read_csv(str(f))\n",
    "        df = clean_and_save(df, f)\n",
    "        return df\n",
    "        \n",
    "    print(\"DONE\")\n",
    "    \n",
    "df = main()\n",
    "\n",
    "df.head()"
   ]
  },
  {
   "cell_type": "code",
   "execution_count": 266,
   "metadata": {},
   "outputs": [
    {
     "data": {
      "text/html": [
       "<div>\n",
       "<style scoped>\n",
       "    .dataframe tbody tr th:only-of-type {\n",
       "        vertical-align: middle;\n",
       "    }\n",
       "\n",
       "    .dataframe tbody tr th {\n",
       "        vertical-align: top;\n",
       "    }\n",
       "\n",
       "    .dataframe thead th {\n",
       "        text-align: right;\n",
       "    }\n",
       "</style>\n",
       "<table border=\"1\" class=\"dataframe\">\n",
       "  <thead>\n",
       "    <tr style=\"text-align: right;\">\n",
       "      <th></th>\n",
       "      <th>Habitaciones</th>\n",
       "    </tr>\n",
       "  </thead>\n",
       "  <tbody>\n",
       "    <tr>\n",
       "      <th>0</th>\n",
       "      <td>Anticrético</td>\n",
       "    </tr>\n",
       "    <tr>\n",
       "      <th>1</th>\n",
       "      <td>CUARTOS en anticrético para estudiantes Sargen...</td>\n",
       "    </tr>\n",
       "    <tr>\n",
       "      <th>3</th>\n",
       "      <td>CUARTOS en anticrético zona Sapo Norte. 74155820</td>\n",
       "    </tr>\n",
       "    <tr>\n",
       "      <th>5</th>\n",
       "      <td>VEHÍCULOS</td>\n",
       "    </tr>\n",
       "  </tbody>\n",
       "</table>\n",
       "</div>"
      ],
      "text/plain": [
       "                                        Habitaciones\n",
       "0                                        Anticrético\n",
       "1  CUARTOS en anticrético para estudiantes Sargen...\n",
       "3   CUARTOS en anticrético zona Sapo Norte. 74155820\n",
       "5                                          VEHÍCULOS"
      ]
     },
     "execution_count": 266,
     "metadata": {},
     "output_type": "execute_result"
    }
   ],
   "source": [
    "df = df.rename_axis(index=None, columns=None)\n",
    "df.head()"
   ]
  },
  {
   "cell_type": "code",
   "execution_count": null,
   "metadata": {},
   "outputs": [],
   "source": [
    "df[\"\"]"
   ]
  },
  {
   "cell_type": "code",
   "execution_count": null,
   "metadata": {},
   "outputs": [],
   "source": [
    "n_df = pd.DataFrame(columns=[\"date\", \"document\", \"label_1\", \"label_2\"])\n",
    "\n",
    "\n",
    "\n",
    "data = [[]]\n",
    "\n",
    "df_1 = pd.DataFrame(data, columns=[\"date\", \"document\", \"label_1\", \"label_2\"])"
   ]
  },
  {
   "cell_type": "code",
   "execution_count": null,
   "metadata": {},
   "outputs": [],
   "source": [
    "# http://www.datasciencemadesimple.com/drop-delete-rows-conditions-python-pandas/"
   ]
  }
 ],
 "metadata": {
  "kernelspec": {
   "display_name": "Python 3",
   "language": "python",
   "name": "python3"
  },
  "language_info": {
   "codemirror_mode": {
    "name": "ipython",
    "version": 3
   },
   "file_extension": ".py",
   "mimetype": "text/x-python",
   "name": "python",
   "nbconvert_exporter": "python",
   "pygments_lexer": "ipython3",
   "version": "3.7.3"
  }
 },
 "nbformat": 4,
 "nbformat_minor": 2
}
